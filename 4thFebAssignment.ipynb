{
 "cells": [
  {
   "cell_type": "markdown",
   "id": "e3bbd38f-9e4e-44e5-85b2-8e83a92f1ccc",
   "metadata": {},
   "source": [
    "Create a python program to sort the given list of tuples based on integer values using a lambda function"
   ]
  },
  {
   "cell_type": "code",
   "execution_count": 7,
   "id": "8b8307e1-74a4-43f1-affc-812ce9478a24",
   "metadata": {},
   "outputs": [
    {
     "data": {
      "text/plain": [
       "[('Virat Kohli', 24936),\n",
       " ('Jack Kallis', 25534),\n",
       " ('Ricky Ponting', 27483),\n",
       " ('Sachin Tendulkar', 34357)]"
      ]
     },
     "execution_count": 7,
     "metadata": {},
     "output_type": "execute_result"
    }
   ],
   "source": [
    "t = [('Sachin Tendulkar',34357), ('Ricky Ponting', 27483), ('Jack Kallis', 25534), ('Virat Kohli',24936)]\n",
    "\n",
    "sorted_t = sorted(t, key = lambda x : x[1])\n",
    "sorted_t"
   ]
  },
  {
   "cell_type": "markdown",
   "id": "c51d3403-b1c6-4825-abf6-e2691f57f531",
   "metadata": {},
   "source": [
    "* Write a python program to find the squares of all the numbers in the given list of integers using lambda and map functions.."
   ]
  },
  {
   "cell_type": "code",
   "execution_count": 8,
   "id": "615cd292-cd26-4d13-86e1-86cc30c60366",
   "metadata": {},
   "outputs": [
    {
     "data": {
      "text/plain": [
       "[1, 4, 9, 16, 25, 36, 49, 64, 81, 100]"
      ]
     },
     "execution_count": 8,
     "metadata": {},
     "output_type": "execute_result"
    }
   ],
   "source": [
    "l = [1,2,3,4,5,6,7,8,9,10]\n",
    "l1 = list(map(lambda x: x ** 2, l))\n",
    "l1"
   ]
  },
  {
   "cell_type": "markdown",
   "id": "61993c59-5dfd-4e08-ba38-9c00d20b45f2",
   "metadata": {},
   "source": [
    "* Write a python program to convert the given list of integers into a tuple of strings. Use map and lambda functions"
   ]
  },
  {
   "cell_type": "code",
   "execution_count": 9,
   "id": "5ebb81da-f098-4250-8228-b51146290620",
   "metadata": {},
   "outputs": [
    {
     "data": {
      "text/plain": [
       "('1', '2', '3', '4', '5', '6', '7', '8', '9', '10')"
      ]
     },
     "execution_count": 9,
     "metadata": {},
     "output_type": "execute_result"
    }
   ],
   "source": [
    "String = [1,2,3,4,5,6,7,8,9,10]\n",
    "t1 = tuple(map(lambda x : str(x), String))\n",
    "t1"
   ]
  },
  {
   "cell_type": "markdown",
   "id": "44cc5019-47f8-452f-bdc5-3c99c309293e",
   "metadata": {},
   "source": [
    "*Q4. Write a python program using reduce function to compute the product of a list containing numbers from 1 to 25*"
   ]
  },
  {
   "cell_type": "code",
   "execution_count": 18,
   "id": "4fb6dc5a-0632-4539-898d-01c8d506b0ff",
   "metadata": {},
   "outputs": [
    {
     "data": {
      "text/plain": [
       "15511210043330985984000000"
      ]
     },
     "execution_count": 18,
     "metadata": {},
     "output_type": "execute_result"
    }
   ],
   "source": [
    "l = list(range(1,26))\n",
    "from functools import reduce\n",
    "Product = reduce(lambda x, y : x * y, l ) \n",
    "Product"
   ]
  },
  {
   "cell_type": "markdown",
   "id": "39cd868a-18c5-4cfb-93fa-cecc664f0f38",
   "metadata": {},
   "source": [
    "*Q5. Write a python program to filter the numbers which are divisible by 2 and 3 using the filter function*"
   ]
  },
  {
   "cell_type": "code",
   "execution_count": 19,
   "id": "c40c5cbd-4708-4340-aab4-f671762c1085",
   "metadata": {},
   "outputs": [
    {
     "data": {
      "text/plain": [
       "[6, 60, 90, 120]"
      ]
     },
     "execution_count": 19,
     "metadata": {},
     "output_type": "execute_result"
    }
   ],
   "source": [
    "l = [2,3,6,9,27,60,90,120,55,46]\n",
    "l1 = list(filter(lambda x : x % 2 == 0 and x % 3 == 0, l))\n",
    "l1"
   ]
  },
  {
   "cell_type": "markdown",
   "id": "94117098-6760-4394-ad69-ca35fdb1f798",
   "metadata": {},
   "source": [
    "*Q6. Write a python program to find palindromes in a given list of strings using lambda and filter functions.* "
   ]
  },
  {
   "cell_type": "code",
   "execution_count": 21,
   "id": "14e0e1ac-374d-4f8d-b440-86c426e76910",
   "metadata": {},
   "outputs": [
    {
     "data": {
      "text/plain": [
       "['php', 'aba', 'radar', 'level']"
      ]
     },
     "execution_count": 21,
     "metadata": {},
     "output_type": "execute_result"
    }
   ],
   "source": [
    "l = ['python' , 'php','aba','radar','level']\n",
    "l1 = list(filter(lambda x : x == x[::-1],l))\n",
    "l1"
   ]
  },
  {
   "cell_type": "code",
   "execution_count": null,
   "id": "84bb9e0b-0f31-4573-8be4-813a3c768688",
   "metadata": {},
   "outputs": [],
   "source": []
  }
 ],
 "metadata": {
  "kernelspec": {
   "display_name": "Python 3 (ipykernel)",
   "language": "python",
   "name": "python3"
  },
  "language_info": {
   "codemirror_mode": {
    "name": "ipython",
    "version": 3
   },
   "file_extension": ".py",
   "mimetype": "text/x-python",
   "name": "python",
   "nbconvert_exporter": "python",
   "pygments_lexer": "ipython3",
   "version": "3.10.8"
  }
 },
 "nbformat": 4,
 "nbformat_minor": 5
}
